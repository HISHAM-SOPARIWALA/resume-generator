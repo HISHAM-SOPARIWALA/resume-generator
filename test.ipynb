{
 "cells": [
  {
   "cell_type": "code",
   "execution_count": null,
   "metadata": {},
   "outputs": [
    {
     "data": {
      "text/plain": [
       "'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'"
      ]
     },
     "execution_count": 9,
     "metadata": {},
     "output_type": "execute_result"
    }
   ],
   "source": [
    "import groq \n",
    "import os\n",
    "from dotenv import load_dotenv\n",
    "load_dotenv()\n",
    "groq_api = os.getenv('groq')\n",
    "groq_api"
   ]
  },
  {
   "cell_type": "code",
   "execution_count": null,
   "metadata": {},
   "outputs": [],
   "source": [
    "import json\n",
    "from IPython.display import display, Markdown\n",
    "\n",
    "# Define questions to gather resume information\n",
    "resume_questions = [\n",
    "    \"What is your full name?\",\n",
    "    \"What is your email address and phone number?\",\n",
    "    \"What is your professional summary or objective (2-3 sentences)?\",\n",
    "    \"List your top 3 skills (comma separated):\",\n",
    "    \"What is your most recent job title, company, and duration?\",\n",
    "    \"Briefly describe your responsibilities and achievements in your most recent role:\",\n",
    "    \"What was your previous job title, company, and duration?\",\n",
    "    \"What is your highest educational qualification, institution, and graduation year?\",\n",
    "    \"List any certifications or additional training you have:\",\n",
    "    \"What are your career goals or aspirations?\"\n",
    "]\n",
    "\n",
    "# Collect answers from the user\n",
    "answers = []\n",
    "for question in resume_questions:\n",
    "    answer = input(f\"{question} \")\n",
    "    answers.append(answer)\n",
    "\n",
    "# Set up Groq client with API key\n",
    "client = groq.Client()  # Using the already imported groq module\n",
    "\n",
    "# Prepare resume context from answers\n",
    "resume_context = f\"\"\"\n",
    "Name: {answers[0]}\n",
    "Contact: {answers[1]}\n",
    "Professional Summary: {answers[2]}\n",
    "Skills: {answers[3]}\n",
    "Recent Job: {answers[4]}\n",
    "Recent Job Details: {answers[5]}\n",
    "Previous Job: {answers[6]}\n",
    "Education: {answers[7]}\n",
    "Certifications: {answers[8]}\n",
    "Career Goals: {answers[9]}\n",
    "\"\"\"\n",
    "\n",
    "# Generate resume using Groq API\n",
    "response = client.chat.completions.create(\n",
    "    messages=[\n",
    "        {\"role\": \"system\", \"content\": \"You are an expert resume writer who creates professional, ATS-friendly resumes.\"},\n",
    "        {\"role\": \"user\", \"content\": f\"Create a professional resume in markdown format based on this information:\\n{resume_context}\"}\n",
    "    ],\n",
    "    model=\"llama3-8b-8192\",  # Using Llama model\n",
    "    temperature=0.7,\n",
    "    max_tokens=2000\n",
    ")\n",
    "\n",
    "# Display the generated resume\n",
    "resume_content = response.choices[0].message.content\n",
    "display(Markdown(resume_content))\n",
    "\n",
    "# Option to save the resume\n",
    "save_option = input(\"Do you want to save this resume to a file? (yes/no): \")\n",
    "if save_option.lower() in ['yes', 'y']:\n",
    "    filename = f\"{answers[0].replace(' ', '_')}_resume.md\"\n",
    "    with open(filename, \"w\") as file:\n",
    "        file.write(resume_content)\n",
    "    print(f\"Resume saved as {filename}\")"
   ]
  }
 ],
 "metadata": {
  "kernelspec": {
   "display_name": ".venv",
   "language": "python",
   "name": "python3"
  },
  "language_info": {
   "codemirror_mode": {
    "name": "ipython",
    "version": 3
   },
   "file_extension": ".py",
   "mimetype": "text/x-python",
   "name": "python",
   "nbconvert_exporter": "python",
   "pygments_lexer": "ipython3",
   "version": "3.13.1"
  }
 },
 "nbformat": 4,
 "nbformat_minor": 2
}
